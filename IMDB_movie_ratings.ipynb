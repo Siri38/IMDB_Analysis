{
 "cells": [
  {
   "cell_type": "code",
   "execution_count": 1,
   "id": "ad62efd1",
   "metadata": {},
   "outputs": [],
   "source": [
    "Abc = 100,000,000"
   ]
  },
  {
   "cell_type": "code",
   "execution_count": 2,
   "id": "710646d3",
   "metadata": {},
   "outputs": [],
   "source": [
    "A,b,c = 100,200,300"
   ]
  },
  {
   "cell_type": "code",
   "execution_count": 3,
   "id": "d9fcae3f",
   "metadata": {},
   "outputs": [
    {
     "ename": "SyntaxError",
     "evalue": "invalid syntax (4276337765.py, line 1)",
     "output_type": "error",
     "traceback": [
      "\u001b[1;36m  Cell \u001b[1;32mIn[3], line 1\u001b[1;36m\u001b[0m\n\u001b[1;33m    A b c = 100 200 300\u001b[0m\n\u001b[1;37m      ^\u001b[0m\n\u001b[1;31mSyntaxError\u001b[0m\u001b[1;31m:\u001b[0m invalid syntax\n"
     ]
    }
   ],
   "source": [
    "A b c = 100 200 300"
   ]
  },
  {
   "cell_type": "code",
   "execution_count": 4,
   "id": "f21b0fb9",
   "metadata": {},
   "outputs": [],
   "source": [
    "A_b_c = 100,000,000"
   ]
  },
  {
   "cell_type": "code",
   "execution_count": 5,
   "id": "d5840960",
   "metadata": {},
   "outputs": [],
   "source": [
    "tup = 1, 2, 3"
   ]
  },
  {
   "cell_type": "code",
   "execution_count": 6,
   "id": "e94c6663",
   "metadata": {},
   "outputs": [],
   "source": [
    "tup = [1, 2, 3]"
   ]
  },
  {
   "cell_type": "code",
   "execution_count": 8,
   "id": "c539d021",
   "metadata": {},
   "outputs": [
    {
     "data": {
      "text/plain": [
       "[1, 2, 3]"
      ]
     },
     "execution_count": 8,
     "metadata": {},
     "output_type": "execute_result"
    }
   ],
   "source": [
    "tup"
   ]
  },
  {
   "cell_type": "code",
   "execution_count": 10,
   "id": "b692c9f9",
   "metadata": {},
   "outputs": [],
   "source": [
    "import pandas as pd"
   ]
  },
  {
   "cell_type": "code",
   "execution_count": 15,
   "id": "1c4b465b",
   "metadata": {},
   "outputs": [],
   "source": [
    "ratings=pd.read_csv(r'C:\\Users\\Admin\\Downloads\\movie_data\\ratings.csv')"
   ]
  },
  {
   "cell_type": "code",
   "execution_count": 12,
   "id": "ba8b5cd8",
   "metadata": {},
   "outputs": [
    {
     "data": {
      "text/html": [
       "<div>\n",
       "<style scoped>\n",
       "    .dataframe tbody tr th:only-of-type {\n",
       "        vertical-align: middle;\n",
       "    }\n",
       "\n",
       "    .dataframe tbody tr th {\n",
       "        vertical-align: top;\n",
       "    }\n",
       "\n",
       "    .dataframe thead th {\n",
       "        text-align: right;\n",
       "    }\n",
       "</style>\n",
       "<table border=\"1\" class=\"dataframe\">\n",
       "  <thead>\n",
       "    <tr style=\"text-align: right;\">\n",
       "      <th></th>\n",
       "      <th>userId</th>\n",
       "      <th>movieId</th>\n",
       "      <th>rating</th>\n",
       "      <th>timestamp</th>\n",
       "    </tr>\n",
       "  </thead>\n",
       "  <tbody>\n",
       "    <tr>\n",
       "      <th>0</th>\n",
       "      <td>1</td>\n",
       "      <td>1</td>\n",
       "      <td>4.0</td>\n",
       "      <td>964982703</td>\n",
       "    </tr>\n",
       "    <tr>\n",
       "      <th>1</th>\n",
       "      <td>1</td>\n",
       "      <td>3</td>\n",
       "      <td>4.0</td>\n",
       "      <td>964981247</td>\n",
       "    </tr>\n",
       "    <tr>\n",
       "      <th>2</th>\n",
       "      <td>1</td>\n",
       "      <td>6</td>\n",
       "      <td>4.0</td>\n",
       "      <td>964982224</td>\n",
       "    </tr>\n",
       "    <tr>\n",
       "      <th>3</th>\n",
       "      <td>1</td>\n",
       "      <td>47</td>\n",
       "      <td>5.0</td>\n",
       "      <td>964983815</td>\n",
       "    </tr>\n",
       "    <tr>\n",
       "      <th>4</th>\n",
       "      <td>1</td>\n",
       "      <td>50</td>\n",
       "      <td>5.0</td>\n",
       "      <td>964982931</td>\n",
       "    </tr>\n",
       "  </tbody>\n",
       "</table>\n",
       "</div>"
      ],
      "text/plain": [
       "   userId  movieId  rating  timestamp\n",
       "0       1        1     4.0  964982703\n",
       "1       1        3     4.0  964981247\n",
       "2       1        6     4.0  964982224\n",
       "3       1       47     5.0  964983815\n",
       "4       1       50     5.0  964982931"
      ]
     },
     "execution_count": 12,
     "metadata": {},
     "output_type": "execute_result"
    }
   ],
   "source": [
    "df.head()"
   ]
  },
  {
   "cell_type": "code",
   "execution_count": 13,
   "id": "3269f6a1",
   "metadata": {},
   "outputs": [
    {
     "data": {
      "text/plain": [
       "userId         610\n",
       "movieId       9724\n",
       "rating          10\n",
       "timestamp    85043\n",
       "dtype: int64"
      ]
     },
     "execution_count": 13,
     "metadata": {},
     "output_type": "execute_result"
    }
   ],
   "source": [
    "df.nunique()"
   ]
  },
  {
   "cell_type": "code",
   "execution_count": 16,
   "id": "0f4eed72",
   "metadata": {},
   "outputs": [],
   "source": [
    "links=pd.read_csv(r'C:\\Users\\Admin\\Downloads\\movie_data\\links.csv')"
   ]
  },
  {
   "cell_type": "markdown",
   "id": "7bc18c0e",
   "metadata": {},
   "source": []
  },
  {
   "cell_type": "code",
   "execution_count": 17,
   "id": "63217882",
   "metadata": {},
   "outputs": [],
   "source": [
    "movies=pd.read_csv(r'C:\\Users\\Admin\\Downloads\\movie_data\\movies.csv')"
   ]
  },
  {
   "cell_type": "code",
   "execution_count": 18,
   "id": "da7ac9fe",
   "metadata": {},
   "outputs": [],
   "source": [
    "tags=pd.read_csv(r'C:\\Users\\Admin\\Downloads\\movie_data\\tags.csv')"
   ]
  },
  {
   "cell_type": "code",
   "execution_count": 20,
   "id": "0b472b66",
   "metadata": {},
   "outputs": [],
   "source": [
    "movies_ratings_df = pd.merge(movies, ratings, on='movieId')"
   ]
  },
  {
   "cell_type": "code",
   "execution_count": 21,
   "id": "02b4b50a",
   "metadata": {},
   "outputs": [],
   "source": [
    "movies_ratings_tags_df = pd.merge(movies_ratings_df, tags, on='movieId', how='left')"
   ]
  },
  {
   "cell_type": "code",
   "execution_count": 22,
   "id": "36eb514e",
   "metadata": {},
   "outputs": [],
   "source": [
    "full_df = pd.merge(movies_ratings_tags_df, links, on='movieId', how='left')"
   ]
  },
  {
   "cell_type": "code",
   "execution_count": 23,
   "id": "a5fd930c",
   "metadata": {},
   "outputs": [
    {
     "data": {
      "text/html": [
       "<div>\n",
       "<style scoped>\n",
       "    .dataframe tbody tr th:only-of-type {\n",
       "        vertical-align: middle;\n",
       "    }\n",
       "\n",
       "    .dataframe tbody tr th {\n",
       "        vertical-align: top;\n",
       "    }\n",
       "\n",
       "    .dataframe thead th {\n",
       "        text-align: right;\n",
       "    }\n",
       "</style>\n",
       "<table border=\"1\" class=\"dataframe\">\n",
       "  <thead>\n",
       "    <tr style=\"text-align: right;\">\n",
       "      <th></th>\n",
       "      <th>movieId</th>\n",
       "      <th>title</th>\n",
       "      <th>genres</th>\n",
       "      <th>userId_x</th>\n",
       "      <th>rating</th>\n",
       "      <th>timestamp_x</th>\n",
       "      <th>userId_y</th>\n",
       "      <th>tag</th>\n",
       "      <th>timestamp_y</th>\n",
       "      <th>imdbId</th>\n",
       "      <th>tmdbId</th>\n",
       "    </tr>\n",
       "  </thead>\n",
       "  <tbody>\n",
       "    <tr>\n",
       "      <th>0</th>\n",
       "      <td>1</td>\n",
       "      <td>Toy Story (1995)</td>\n",
       "      <td>Adventure|Animation|Children|Comedy|Fantasy</td>\n",
       "      <td>1</td>\n",
       "      <td>4.0</td>\n",
       "      <td>964982703</td>\n",
       "      <td>336.0</td>\n",
       "      <td>pixar</td>\n",
       "      <td>1.139046e+09</td>\n",
       "      <td>114709</td>\n",
       "      <td>862.0</td>\n",
       "    </tr>\n",
       "    <tr>\n",
       "      <th>1</th>\n",
       "      <td>1</td>\n",
       "      <td>Toy Story (1995)</td>\n",
       "      <td>Adventure|Animation|Children|Comedy|Fantasy</td>\n",
       "      <td>1</td>\n",
       "      <td>4.0</td>\n",
       "      <td>964982703</td>\n",
       "      <td>474.0</td>\n",
       "      <td>pixar</td>\n",
       "      <td>1.137207e+09</td>\n",
       "      <td>114709</td>\n",
       "      <td>862.0</td>\n",
       "    </tr>\n",
       "    <tr>\n",
       "      <th>2</th>\n",
       "      <td>1</td>\n",
       "      <td>Toy Story (1995)</td>\n",
       "      <td>Adventure|Animation|Children|Comedy|Fantasy</td>\n",
       "      <td>1</td>\n",
       "      <td>4.0</td>\n",
       "      <td>964982703</td>\n",
       "      <td>567.0</td>\n",
       "      <td>fun</td>\n",
       "      <td>1.525286e+09</td>\n",
       "      <td>114709</td>\n",
       "      <td>862.0</td>\n",
       "    </tr>\n",
       "    <tr>\n",
       "      <th>3</th>\n",
       "      <td>1</td>\n",
       "      <td>Toy Story (1995)</td>\n",
       "      <td>Adventure|Animation|Children|Comedy|Fantasy</td>\n",
       "      <td>5</td>\n",
       "      <td>4.0</td>\n",
       "      <td>847434962</td>\n",
       "      <td>336.0</td>\n",
       "      <td>pixar</td>\n",
       "      <td>1.139046e+09</td>\n",
       "      <td>114709</td>\n",
       "      <td>862.0</td>\n",
       "    </tr>\n",
       "    <tr>\n",
       "      <th>4</th>\n",
       "      <td>1</td>\n",
       "      <td>Toy Story (1995)</td>\n",
       "      <td>Adventure|Animation|Children|Comedy|Fantasy</td>\n",
       "      <td>5</td>\n",
       "      <td>4.0</td>\n",
       "      <td>847434962</td>\n",
       "      <td>474.0</td>\n",
       "      <td>pixar</td>\n",
       "      <td>1.137207e+09</td>\n",
       "      <td>114709</td>\n",
       "      <td>862.0</td>\n",
       "    </tr>\n",
       "  </tbody>\n",
       "</table>\n",
       "</div>"
      ],
      "text/plain": [
       "   movieId             title                                       genres  \\\n",
       "0        1  Toy Story (1995)  Adventure|Animation|Children|Comedy|Fantasy   \n",
       "1        1  Toy Story (1995)  Adventure|Animation|Children|Comedy|Fantasy   \n",
       "2        1  Toy Story (1995)  Adventure|Animation|Children|Comedy|Fantasy   \n",
       "3        1  Toy Story (1995)  Adventure|Animation|Children|Comedy|Fantasy   \n",
       "4        1  Toy Story (1995)  Adventure|Animation|Children|Comedy|Fantasy   \n",
       "\n",
       "   userId_x  rating  timestamp_x  userId_y    tag   timestamp_y  imdbId  \\\n",
       "0         1     4.0    964982703     336.0  pixar  1.139046e+09  114709   \n",
       "1         1     4.0    964982703     474.0  pixar  1.137207e+09  114709   \n",
       "2         1     4.0    964982703     567.0    fun  1.525286e+09  114709   \n",
       "3         5     4.0    847434962     336.0  pixar  1.139046e+09  114709   \n",
       "4         5     4.0    847434962     474.0  pixar  1.137207e+09  114709   \n",
       "\n",
       "   tmdbId  \n",
       "0   862.0  \n",
       "1   862.0  \n",
       "2   862.0  \n",
       "3   862.0  \n",
       "4   862.0  "
      ]
     },
     "execution_count": 23,
     "metadata": {},
     "output_type": "execute_result"
    }
   ],
   "source": [
    "full_df.head()"
   ]
  },
  {
   "cell_type": "code",
   "execution_count": 19,
   "id": "60a63de0",
   "metadata": {},
   "outputs": [
    {
     "data": {
      "text/html": [
       "<div>\n",
       "<style scoped>\n",
       "    .dataframe tbody tr th:only-of-type {\n",
       "        vertical-align: middle;\n",
       "    }\n",
       "\n",
       "    .dataframe tbody tr th {\n",
       "        vertical-align: top;\n",
       "    }\n",
       "\n",
       "    .dataframe thead th {\n",
       "        text-align: right;\n",
       "    }\n",
       "</style>\n",
       "<table border=\"1\" class=\"dataframe\">\n",
       "  <thead>\n",
       "    <tr style=\"text-align: right;\">\n",
       "      <th></th>\n",
       "      <th>movieId</th>\n",
       "      <th>title</th>\n",
       "      <th>genres</th>\n",
       "    </tr>\n",
       "  </thead>\n",
       "  <tbody>\n",
       "    <tr>\n",
       "      <th>0</th>\n",
       "      <td>1</td>\n",
       "      <td>Toy Story (1995)</td>\n",
       "      <td>Adventure|Animation|Children|Comedy|Fantasy</td>\n",
       "    </tr>\n",
       "    <tr>\n",
       "      <th>1</th>\n",
       "      <td>2</td>\n",
       "      <td>Jumanji (1995)</td>\n",
       "      <td>Adventure|Children|Fantasy</td>\n",
       "    </tr>\n",
       "    <tr>\n",
       "      <th>2</th>\n",
       "      <td>3</td>\n",
       "      <td>Grumpier Old Men (1995)</td>\n",
       "      <td>Comedy|Romance</td>\n",
       "    </tr>\n",
       "    <tr>\n",
       "      <th>3</th>\n",
       "      <td>4</td>\n",
       "      <td>Waiting to Exhale (1995)</td>\n",
       "      <td>Comedy|Drama|Romance</td>\n",
       "    </tr>\n",
       "    <tr>\n",
       "      <th>4</th>\n",
       "      <td>5</td>\n",
       "      <td>Father of the Bride Part II (1995)</td>\n",
       "      <td>Comedy</td>\n",
       "    </tr>\n",
       "  </tbody>\n",
       "</table>\n",
       "</div>"
      ],
      "text/plain": [
       "   movieId                               title  \\\n",
       "0        1                    Toy Story (1995)   \n",
       "1        2                      Jumanji (1995)   \n",
       "2        3             Grumpier Old Men (1995)   \n",
       "3        4            Waiting to Exhale (1995)   \n",
       "4        5  Father of the Bride Part II (1995)   \n",
       "\n",
       "                                        genres  \n",
       "0  Adventure|Animation|Children|Comedy|Fantasy  \n",
       "1                   Adventure|Children|Fantasy  \n",
       "2                               Comedy|Romance  \n",
       "3                         Comedy|Drama|Romance  \n",
       "4                                       Comedy  "
      ]
     },
     "execution_count": 19,
     "metadata": {},
     "output_type": "execute_result"
    }
   ],
   "source": [
    "movies.head()"
   ]
  },
  {
   "cell_type": "code",
   "execution_count": 24,
   "id": "fd4257f7",
   "metadata": {},
   "outputs": [
    {
     "data": {
      "text/html": [
       "<div>\n",
       "<style scoped>\n",
       "    .dataframe tbody tr th:only-of-type {\n",
       "        vertical-align: middle;\n",
       "    }\n",
       "\n",
       "    .dataframe tbody tr th {\n",
       "        vertical-align: top;\n",
       "    }\n",
       "\n",
       "    .dataframe thead th {\n",
       "        text-align: right;\n",
       "    }\n",
       "</style>\n",
       "<table border=\"1\" class=\"dataframe\">\n",
       "  <thead>\n",
       "    <tr style=\"text-align: right;\">\n",
       "      <th></th>\n",
       "      <th>movieId</th>\n",
       "      <th>title</th>\n",
       "      <th>genres</th>\n",
       "      <th>userId_x</th>\n",
       "      <th>rating</th>\n",
       "      <th>timestamp_x</th>\n",
       "      <th>userId_y</th>\n",
       "      <th>tag</th>\n",
       "      <th>timestamp_y</th>\n",
       "      <th>imdbId</th>\n",
       "      <th>tmdbId</th>\n",
       "    </tr>\n",
       "  </thead>\n",
       "  <tbody>\n",
       "    <tr>\n",
       "      <th>285757</th>\n",
       "      <td>193581</td>\n",
       "      <td>Black Butler: Book of the Atlantic (2017)</td>\n",
       "      <td>Action|Animation|Comedy|Fantasy</td>\n",
       "      <td>184</td>\n",
       "      <td>4.0</td>\n",
       "      <td>1537109082</td>\n",
       "      <td>NaN</td>\n",
       "      <td>NaN</td>\n",
       "      <td>NaN</td>\n",
       "      <td>5476944</td>\n",
       "      <td>432131.0</td>\n",
       "    </tr>\n",
       "    <tr>\n",
       "      <th>285758</th>\n",
       "      <td>193583</td>\n",
       "      <td>No Game No Life: Zero (2017)</td>\n",
       "      <td>Animation|Comedy|Fantasy</td>\n",
       "      <td>184</td>\n",
       "      <td>3.5</td>\n",
       "      <td>1537109545</td>\n",
       "      <td>NaN</td>\n",
       "      <td>NaN</td>\n",
       "      <td>NaN</td>\n",
       "      <td>5914996</td>\n",
       "      <td>445030.0</td>\n",
       "    </tr>\n",
       "    <tr>\n",
       "      <th>285759</th>\n",
       "      <td>193585</td>\n",
       "      <td>Flint (2017)</td>\n",
       "      <td>Drama</td>\n",
       "      <td>184</td>\n",
       "      <td>3.5</td>\n",
       "      <td>1537109805</td>\n",
       "      <td>NaN</td>\n",
       "      <td>NaN</td>\n",
       "      <td>NaN</td>\n",
       "      <td>6397426</td>\n",
       "      <td>479308.0</td>\n",
       "    </tr>\n",
       "    <tr>\n",
       "      <th>285760</th>\n",
       "      <td>193587</td>\n",
       "      <td>Bungo Stray Dogs: Dead Apple (2018)</td>\n",
       "      <td>Action|Animation</td>\n",
       "      <td>184</td>\n",
       "      <td>3.5</td>\n",
       "      <td>1537110021</td>\n",
       "      <td>NaN</td>\n",
       "      <td>NaN</td>\n",
       "      <td>NaN</td>\n",
       "      <td>8391976</td>\n",
       "      <td>483455.0</td>\n",
       "    </tr>\n",
       "    <tr>\n",
       "      <th>285761</th>\n",
       "      <td>193609</td>\n",
       "      <td>Andrew Dice Clay: Dice Rules (1991)</td>\n",
       "      <td>Comedy</td>\n",
       "      <td>331</td>\n",
       "      <td>4.0</td>\n",
       "      <td>1537157606</td>\n",
       "      <td>NaN</td>\n",
       "      <td>NaN</td>\n",
       "      <td>NaN</td>\n",
       "      <td>101726</td>\n",
       "      <td>37891.0</td>\n",
       "    </tr>\n",
       "  </tbody>\n",
       "</table>\n",
       "</div>"
      ],
      "text/plain": [
       "        movieId                                      title  \\\n",
       "285757   193581  Black Butler: Book of the Atlantic (2017)   \n",
       "285758   193583               No Game No Life: Zero (2017)   \n",
       "285759   193585                               Flint (2017)   \n",
       "285760   193587        Bungo Stray Dogs: Dead Apple (2018)   \n",
       "285761   193609        Andrew Dice Clay: Dice Rules (1991)   \n",
       "\n",
       "                                 genres  userId_x  rating  timestamp_x  \\\n",
       "285757  Action|Animation|Comedy|Fantasy       184     4.0   1537109082   \n",
       "285758         Animation|Comedy|Fantasy       184     3.5   1537109545   \n",
       "285759                            Drama       184     3.5   1537109805   \n",
       "285760                 Action|Animation       184     3.5   1537110021   \n",
       "285761                           Comedy       331     4.0   1537157606   \n",
       "\n",
       "        userId_y  tag  timestamp_y   imdbId    tmdbId  \n",
       "285757       NaN  NaN          NaN  5476944  432131.0  \n",
       "285758       NaN  NaN          NaN  5914996  445030.0  \n",
       "285759       NaN  NaN          NaN  6397426  479308.0  \n",
       "285760       NaN  NaN          NaN  8391976  483455.0  \n",
       "285761       NaN  NaN          NaN   101726   37891.0  "
      ]
     },
     "execution_count": 24,
     "metadata": {},
     "output_type": "execute_result"
    }
   ],
   "source": [
    "full_df.tail()"
   ]
  },
  {
   "cell_type": "code",
   "execution_count": 27,
   "id": "7671df0e",
   "metadata": {},
   "outputs": [],
   "source": [
    "full_df.to_csv('merged_data.csv', index=False)"
   ]
  },
  {
   "cell_type": "code",
   "execution_count": 26,
   "id": "04d70a80",
   "metadata": {},
   "outputs": [
    {
     "data": {
      "text/plain": [
       "Index(['movieId', 'title', 'genres', 'userId_x', 'rating', 'timestamp_x',\n",
       "       'userId_y', 'tag', 'timestamp_y', 'imdbId', 'tmdbId'],\n",
       "      dtype='object')"
      ]
     },
     "execution_count": 26,
     "metadata": {},
     "output_type": "execute_result"
    }
   ],
   "source": [
    "full_df.columns"
   ]
  },
  {
   "cell_type": "code",
   "execution_count": 31,
   "id": "1bd94af6",
   "metadata": {},
   "outputs": [],
   "source": [
    "movie_rating_counts = ratings['movieId'].value_counts()"
   ]
  },
  {
   "cell_type": "code",
   "execution_count": 32,
   "id": "accc469b",
   "metadata": {},
   "outputs": [
    {
     "data": {
      "text/plain": [
       "movieId\n",
       "356       329\n",
       "318       317\n",
       "296       307\n",
       "593       279\n",
       "2571      278\n",
       "         ... \n",
       "86279       1\n",
       "86922       1\n",
       "5962        1\n",
       "87660       1\n",
       "163981      1\n",
       "Name: count, Length: 9724, dtype: int64"
      ]
     },
     "execution_count": 32,
     "metadata": {},
     "output_type": "execute_result"
    }
   ],
   "source": [
    "movie_rating_counts"
   ]
  },
  {
   "cell_type": "code",
   "execution_count": 33,
   "id": "82850b5d",
   "metadata": {},
   "outputs": [],
   "source": [
    "max_ratings_movie_id = movie_rating_counts.idxmax()"
   ]
  },
  {
   "cell_type": "code",
   "execution_count": null,
   "id": "5d0f354d",
   "metadata": {},
   "outputs": [],
   "source": []
  },
  {
   "cell_type": "code",
   "execution_count": 34,
   "id": "b1d35d72",
   "metadata": {},
   "outputs": [],
   "source": [
    "most_rated_movie = movies[movies['movieId'] == max_ratings_movie_id]"
   ]
  },
  {
   "cell_type": "code",
   "execution_count": 35,
   "id": "915c2572",
   "metadata": {},
   "outputs": [
    {
     "data": {
      "text/html": [
       "<div>\n",
       "<style scoped>\n",
       "    .dataframe tbody tr th:only-of-type {\n",
       "        vertical-align: middle;\n",
       "    }\n",
       "\n",
       "    .dataframe tbody tr th {\n",
       "        vertical-align: top;\n",
       "    }\n",
       "\n",
       "    .dataframe thead th {\n",
       "        text-align: right;\n",
       "    }\n",
       "</style>\n",
       "<table border=\"1\" class=\"dataframe\">\n",
       "  <thead>\n",
       "    <tr style=\"text-align: right;\">\n",
       "      <th></th>\n",
       "      <th>movieId</th>\n",
       "      <th>title</th>\n",
       "      <th>genres</th>\n",
       "    </tr>\n",
       "  </thead>\n",
       "  <tbody>\n",
       "    <tr>\n",
       "      <th>314</th>\n",
       "      <td>356</td>\n",
       "      <td>Forrest Gump (1994)</td>\n",
       "      <td>Comedy|Drama|Romance|War</td>\n",
       "    </tr>\n",
       "  </tbody>\n",
       "</table>\n",
       "</div>"
      ],
      "text/plain": [
       "     movieId                title                    genres\n",
       "314      356  Forrest Gump (1994)  Comedy|Drama|Romance|War"
      ]
     },
     "execution_count": 35,
     "metadata": {},
     "output_type": "execute_result"
    }
   ],
   "source": [
    "most_rated_movie"
   ]
  },
  {
   "cell_type": "code",
   "execution_count": 36,
   "id": "ac85c23a",
   "metadata": {},
   "outputs": [
    {
     "name": "stdout",
     "output_type": "stream",
     "text": [
      "Movie 'The Matrix (1999)' not found.\n"
     ]
    }
   ],
   "source": [
    "movie_title = \"The Matrix (1999)\"\n",
    "movie_info = movies[movies['title'] == movie_title]\n",
    "\n",
    "if movie_info.empty:\n",
    "    print(f\"Movie '{movie_title}' not found.\")\n",
    "else:\n",
    "    movie_id = movie_info.iloc[0]['movieId']\n",
    "    \n",
    "    # Find all tags for the movie ID\n",
    "    movie_tags = tags[tags['movieId'] == movie_id]\n",
    "    \n",
    "    # Display the tags\n",
    "    tags_list = movie_tags['tag'].unique()  # Get unique tags\n",
    "    \n",
    "    print(f\"Tags for '{movie_title}':\")\n",
    "    for tag in tags_list:\n",
    "        print(tag)"
   ]
  },
  {
   "cell_type": "code",
   "execution_count": 37,
   "id": "dc771961",
   "metadata": {},
   "outputs": [
    {
     "ename": "SyntaxError",
     "evalue": "invalid syntax (2898464882.py, line 1)",
     "output_type": "error",
     "traceback": [
      "\u001b[1;36m  Cell \u001b[1;32mIn[37], line 1\u001b[1;36m\u001b[0m\n\u001b[1;33m    python find_movie_tags.py\u001b[0m\n\u001b[1;37m           ^\u001b[0m\n\u001b[1;31mSyntaxError\u001b[0m\u001b[1;31m:\u001b[0m invalid syntax\n"
     ]
    }
   ],
   "source": [
    "python find_movie_tags.py"
   ]
  },
  {
   "cell_type": "code",
   "execution_count": 38,
   "id": "59cbc738",
   "metadata": {},
   "outputs": [],
   "source": [
    "avg_ratings = ratings.groupby('movieId')['rating'].mean()"
   ]
  },
  {
   "cell_type": "code",
   "execution_count": 40,
   "id": "7f48b67d",
   "metadata": {},
   "outputs": [],
   "source": [
    "most_popular_movie_id = avg_ratings.idxmax()"
   ]
  },
  {
   "cell_type": "code",
   "execution_count": 44,
   "id": "714e3d69",
   "metadata": {},
   "outputs": [],
   "source": [
    "rated_movie = movies[movies['movieId'] == most_popular_movie_id]"
   ]
  },
  {
   "cell_type": "code",
   "execution_count": 45,
   "id": "0d375a58",
   "metadata": {},
   "outputs": [
    {
     "data": {
      "text/html": [
       "<div>\n",
       "<style scoped>\n",
       "    .dataframe tbody tr th:only-of-type {\n",
       "        vertical-align: middle;\n",
       "    }\n",
       "\n",
       "    .dataframe tbody tr th {\n",
       "        vertical-align: top;\n",
       "    }\n",
       "\n",
       "    .dataframe thead th {\n",
       "        text-align: right;\n",
       "    }\n",
       "</style>\n",
       "<table border=\"1\" class=\"dataframe\">\n",
       "  <thead>\n",
       "    <tr style=\"text-align: right;\">\n",
       "      <th></th>\n",
       "      <th>movieId</th>\n",
       "      <th>title</th>\n",
       "      <th>genres</th>\n",
       "    </tr>\n",
       "  </thead>\n",
       "  <tbody>\n",
       "    <tr>\n",
       "      <th>48</th>\n",
       "      <td>53</td>\n",
       "      <td>Lamerica (1994)</td>\n",
       "      <td>Adventure|Drama</td>\n",
       "    </tr>\n",
       "  </tbody>\n",
       "</table>\n",
       "</div>"
      ],
      "text/plain": [
       "    movieId            title           genres\n",
       "48       53  Lamerica (1994)  Adventure|Drama"
      ]
     },
     "execution_count": 45,
     "metadata": {},
     "output_type": "execute_result"
    }
   ],
   "source": [
    "rated_movie"
   ]
  },
  {
   "cell_type": "code",
   "execution_count": 46,
   "id": "784ae361",
   "metadata": {},
   "outputs": [],
   "source": [
    "sci_fi_movies = movies[movies['genres'].str.contains('Sci-Fi')]"
   ]
  },
  {
   "cell_type": "code",
   "execution_count": 47,
   "id": "88980d29",
   "metadata": {},
   "outputs": [],
   "source": [
    "sci_fi_with_links = pd.merge(sci_fi_movies, links, on='movieId')"
   ]
  },
  {
   "cell_type": "code",
   "execution_count": 50,
   "id": "1e89b543",
   "metadata": {},
   "outputs": [
    {
     "data": {
      "text/html": [
       "<div>\n",
       "<style scoped>\n",
       "    .dataframe tbody tr th:only-of-type {\n",
       "        vertical-align: middle;\n",
       "    }\n",
       "\n",
       "    .dataframe tbody tr th {\n",
       "        vertical-align: top;\n",
       "    }\n",
       "\n",
       "    .dataframe thead th {\n",
       "        text-align: right;\n",
       "    }\n",
       "</style>\n",
       "<table border=\"1\" class=\"dataframe\">\n",
       "  <thead>\n",
       "    <tr style=\"text-align: right;\">\n",
       "      <th></th>\n",
       "      <th>movieId</th>\n",
       "      <th>title</th>\n",
       "      <th>genres</th>\n",
       "      <th>imdbId</th>\n",
       "      <th>tmdbId</th>\n",
       "    </tr>\n",
       "  </thead>\n",
       "  <tbody>\n",
       "    <tr>\n",
       "      <th>0</th>\n",
       "      <td>24</td>\n",
       "      <td>Powder (1995)</td>\n",
       "      <td>Drama|Sci-Fi</td>\n",
       "      <td>114168</td>\n",
       "      <td>12665.0</td>\n",
       "    </tr>\n",
       "    <tr>\n",
       "      <th>1</th>\n",
       "      <td>29</td>\n",
       "      <td>City of Lost Children, The (Cité des enfants p...</td>\n",
       "      <td>Adventure|Drama|Fantasy|Mystery|Sci-Fi</td>\n",
       "      <td>112682</td>\n",
       "      <td>902.0</td>\n",
       "    </tr>\n",
       "    <tr>\n",
       "      <th>2</th>\n",
       "      <td>32</td>\n",
       "      <td>Twelve Monkeys (a.k.a. 12 Monkeys) (1995)</td>\n",
       "      <td>Mystery|Sci-Fi|Thriller</td>\n",
       "      <td>114746</td>\n",
       "      <td>63.0</td>\n",
       "    </tr>\n",
       "    <tr>\n",
       "      <th>3</th>\n",
       "      <td>66</td>\n",
       "      <td>Lawnmower Man 2: Beyond Cyberspace (1996)</td>\n",
       "      <td>Action|Sci-Fi|Thriller</td>\n",
       "      <td>116839</td>\n",
       "      <td>11525.0</td>\n",
       "    </tr>\n",
       "    <tr>\n",
       "      <th>4</th>\n",
       "      <td>76</td>\n",
       "      <td>Screamers (1995)</td>\n",
       "      <td>Action|Sci-Fi|Thriller</td>\n",
       "      <td>114367</td>\n",
       "      <td>9102.0</td>\n",
       "    </tr>\n",
       "    <tr>\n",
       "      <th>...</th>\n",
       "      <td>...</td>\n",
       "      <td>...</td>\n",
       "      <td>...</td>\n",
       "      <td>...</td>\n",
       "      <td>...</td>\n",
       "    </tr>\n",
       "    <tr>\n",
       "      <th>975</th>\n",
       "      <td>188301</td>\n",
       "      <td>Ant-Man and the Wasp (2018)</td>\n",
       "      <td>Action|Adventure|Comedy|Fantasy|Sci-Fi</td>\n",
       "      <td>5095030</td>\n",
       "      <td>363088.0</td>\n",
       "    </tr>\n",
       "    <tr>\n",
       "      <th>976</th>\n",
       "      <td>189547</td>\n",
       "      <td>Iron Soldier (2010)</td>\n",
       "      <td>Action|Sci-Fi</td>\n",
       "      <td>1665744</td>\n",
       "      <td>111196.0</td>\n",
       "    </tr>\n",
       "    <tr>\n",
       "      <th>977</th>\n",
       "      <td>190183</td>\n",
       "      <td>The Darkest Minds (2018)</td>\n",
       "      <td>Sci-Fi|Thriller</td>\n",
       "      <td>4073790</td>\n",
       "      <td>445651.0</td>\n",
       "    </tr>\n",
       "    <tr>\n",
       "      <th>978</th>\n",
       "      <td>191005</td>\n",
       "      <td>Gintama (2017)</td>\n",
       "      <td>Action|Adventure|Comedy|Sci-Fi</td>\n",
       "      <td>5805470</td>\n",
       "      <td>432985.0</td>\n",
       "    </tr>\n",
       "    <tr>\n",
       "      <th>979</th>\n",
       "      <td>193565</td>\n",
       "      <td>Gintama: The Movie (2010)</td>\n",
       "      <td>Action|Animation|Comedy|Sci-Fi</td>\n",
       "      <td>1636780</td>\n",
       "      <td>71172.0</td>\n",
       "    </tr>\n",
       "  </tbody>\n",
       "</table>\n",
       "<p>980 rows × 5 columns</p>\n",
       "</div>"
      ],
      "text/plain": [
       "     movieId                                              title  \\\n",
       "0         24                                      Powder (1995)   \n",
       "1         29  City of Lost Children, The (Cité des enfants p...   \n",
       "2         32          Twelve Monkeys (a.k.a. 12 Monkeys) (1995)   \n",
       "3         66          Lawnmower Man 2: Beyond Cyberspace (1996)   \n",
       "4         76                                   Screamers (1995)   \n",
       "..       ...                                                ...   \n",
       "975   188301                        Ant-Man and the Wasp (2018)   \n",
       "976   189547                                Iron Soldier (2010)   \n",
       "977   190183                           The Darkest Minds (2018)   \n",
       "978   191005                                     Gintama (2017)   \n",
       "979   193565                          Gintama: The Movie (2010)   \n",
       "\n",
       "                                     genres   imdbId    tmdbId  \n",
       "0                              Drama|Sci-Fi   114168   12665.0  \n",
       "1    Adventure|Drama|Fantasy|Mystery|Sci-Fi   112682     902.0  \n",
       "2                   Mystery|Sci-Fi|Thriller   114746      63.0  \n",
       "3                    Action|Sci-Fi|Thriller   116839   11525.0  \n",
       "4                    Action|Sci-Fi|Thriller   114367    9102.0  \n",
       "..                                      ...      ...       ...  \n",
       "975  Action|Adventure|Comedy|Fantasy|Sci-Fi  5095030  363088.0  \n",
       "976                           Action|Sci-Fi  1665744  111196.0  \n",
       "977                         Sci-Fi|Thriller  4073790  445651.0  \n",
       "978          Action|Adventure|Comedy|Sci-Fi  5805470  432985.0  \n",
       "979          Action|Animation|Comedy|Sci-Fi  1636780   71172.0  \n",
       "\n",
       "[980 rows x 5 columns]"
      ]
     },
     "execution_count": 50,
     "metadata": {},
     "output_type": "execute_result"
    }
   ],
   "source": [
    "sci_fi_with_links"
   ]
  },
  {
   "cell_type": "code",
   "execution_count": 63,
   "id": "bcefcdf3",
   "metadata": {},
   "outputs": [],
   "source": [
    "df=full_df[full_df['genres'].str.contains('Sci-Fi')]"
   ]
  },
  {
   "cell_type": "code",
   "execution_count": 64,
   "id": "7c267023",
   "metadata": {},
   "outputs": [
    {
     "data": {
      "text/html": [
       "<div>\n",
       "<style scoped>\n",
       "    .dataframe tbody tr th:only-of-type {\n",
       "        vertical-align: middle;\n",
       "    }\n",
       "\n",
       "    .dataframe tbody tr th {\n",
       "        vertical-align: top;\n",
       "    }\n",
       "\n",
       "    .dataframe thead th {\n",
       "        text-align: right;\n",
       "    }\n",
       "</style>\n",
       "<table border=\"1\" class=\"dataframe\">\n",
       "  <thead>\n",
       "    <tr style=\"text-align: right;\">\n",
       "      <th></th>\n",
       "      <th>movieId</th>\n",
       "      <th>title</th>\n",
       "      <th>genres</th>\n",
       "      <th>userId_x</th>\n",
       "      <th>rating</th>\n",
       "      <th>timestamp_x</th>\n",
       "      <th>userId_y</th>\n",
       "      <th>tag</th>\n",
       "      <th>timestamp_y</th>\n",
       "      <th>imdbId</th>\n",
       "      <th>tmdbId</th>\n",
       "    </tr>\n",
       "  </thead>\n",
       "  <tbody>\n",
       "    <tr>\n",
       "      <th>2235</th>\n",
       "      <td>24</td>\n",
       "      <td>Powder (1995)</td>\n",
       "      <td>Drama|Sci-Fi</td>\n",
       "      <td>6</td>\n",
       "      <td>4.0</td>\n",
       "      <td>845554397</td>\n",
       "      <td>NaN</td>\n",
       "      <td>NaN</td>\n",
       "      <td>NaN</td>\n",
       "      <td>114168</td>\n",
       "      <td>12665.0</td>\n",
       "    </tr>\n",
       "    <tr>\n",
       "      <th>2236</th>\n",
       "      <td>24</td>\n",
       "      <td>Powder (1995)</td>\n",
       "      <td>Drama|Sci-Fi</td>\n",
       "      <td>32</td>\n",
       "      <td>3.0</td>\n",
       "      <td>856737205</td>\n",
       "      <td>NaN</td>\n",
       "      <td>NaN</td>\n",
       "      <td>NaN</td>\n",
       "      <td>114168</td>\n",
       "      <td>12665.0</td>\n",
       "    </tr>\n",
       "    <tr>\n",
       "      <th>2237</th>\n",
       "      <td>24</td>\n",
       "      <td>Powder (1995)</td>\n",
       "      <td>Drama|Sci-Fi</td>\n",
       "      <td>71</td>\n",
       "      <td>2.0</td>\n",
       "      <td>864740028</td>\n",
       "      <td>NaN</td>\n",
       "      <td>NaN</td>\n",
       "      <td>NaN</td>\n",
       "      <td>114168</td>\n",
       "      <td>12665.0</td>\n",
       "    </tr>\n",
       "    <tr>\n",
       "      <th>2238</th>\n",
       "      <td>24</td>\n",
       "      <td>Powder (1995)</td>\n",
       "      <td>Drama|Sci-Fi</td>\n",
       "      <td>111</td>\n",
       "      <td>2.5</td>\n",
       "      <td>1518640854</td>\n",
       "      <td>NaN</td>\n",
       "      <td>NaN</td>\n",
       "      <td>NaN</td>\n",
       "      <td>114168</td>\n",
       "      <td>12665.0</td>\n",
       "    </tr>\n",
       "    <tr>\n",
       "      <th>2239</th>\n",
       "      <td>24</td>\n",
       "      <td>Powder (1995)</td>\n",
       "      <td>Drama|Sci-Fi</td>\n",
       "      <td>181</td>\n",
       "      <td>3.0</td>\n",
       "      <td>845470571</td>\n",
       "      <td>NaN</td>\n",
       "      <td>NaN</td>\n",
       "      <td>NaN</td>\n",
       "      <td>114168</td>\n",
       "      <td>12665.0</td>\n",
       "    </tr>\n",
       "    <tr>\n",
       "      <th>...</th>\n",
       "      <td>...</td>\n",
       "      <td>...</td>\n",
       "      <td>...</td>\n",
       "      <td>...</td>\n",
       "      <td>...</td>\n",
       "      <td>...</td>\n",
       "      <td>...</td>\n",
       "      <td>...</td>\n",
       "      <td>...</td>\n",
       "      <td>...</td>\n",
       "      <td>...</td>\n",
       "    </tr>\n",
       "    <tr>\n",
       "      <th>285748</th>\n",
       "      <td>191005</td>\n",
       "      <td>Gintama (2017)</td>\n",
       "      <td>Action|Adventure|Comedy|Sci-Fi</td>\n",
       "      <td>184</td>\n",
       "      <td>4.5</td>\n",
       "      <td>1537109489</td>\n",
       "      <td>NaN</td>\n",
       "      <td>NaN</td>\n",
       "      <td>NaN</td>\n",
       "      <td>5805470</td>\n",
       "      <td>432985.0</td>\n",
       "    </tr>\n",
       "    <tr>\n",
       "      <th>285749</th>\n",
       "      <td>193565</td>\n",
       "      <td>Gintama: The Movie (2010)</td>\n",
       "      <td>Action|Animation|Comedy|Sci-Fi</td>\n",
       "      <td>184</td>\n",
       "      <td>3.5</td>\n",
       "      <td>1537098554</td>\n",
       "      <td>184.0</td>\n",
       "      <td>anime</td>\n",
       "      <td>1.537099e+09</td>\n",
       "      <td>1636780</td>\n",
       "      <td>71172.0</td>\n",
       "    </tr>\n",
       "    <tr>\n",
       "      <th>285750</th>\n",
       "      <td>193565</td>\n",
       "      <td>Gintama: The Movie (2010)</td>\n",
       "      <td>Action|Animation|Comedy|Sci-Fi</td>\n",
       "      <td>184</td>\n",
       "      <td>3.5</td>\n",
       "      <td>1537098554</td>\n",
       "      <td>184.0</td>\n",
       "      <td>comedy</td>\n",
       "      <td>1.537099e+09</td>\n",
       "      <td>1636780</td>\n",
       "      <td>71172.0</td>\n",
       "    </tr>\n",
       "    <tr>\n",
       "      <th>285751</th>\n",
       "      <td>193565</td>\n",
       "      <td>Gintama: The Movie (2010)</td>\n",
       "      <td>Action|Animation|Comedy|Sci-Fi</td>\n",
       "      <td>184</td>\n",
       "      <td>3.5</td>\n",
       "      <td>1537098554</td>\n",
       "      <td>184.0</td>\n",
       "      <td>gintama</td>\n",
       "      <td>1.537099e+09</td>\n",
       "      <td>1636780</td>\n",
       "      <td>71172.0</td>\n",
       "    </tr>\n",
       "    <tr>\n",
       "      <th>285752</th>\n",
       "      <td>193565</td>\n",
       "      <td>Gintama: The Movie (2010)</td>\n",
       "      <td>Action|Animation|Comedy|Sci-Fi</td>\n",
       "      <td>184</td>\n",
       "      <td>3.5</td>\n",
       "      <td>1537098554</td>\n",
       "      <td>184.0</td>\n",
       "      <td>remaster</td>\n",
       "      <td>1.537099e+09</td>\n",
       "      <td>1636780</td>\n",
       "      <td>71172.0</td>\n",
       "    </tr>\n",
       "  </tbody>\n",
       "</table>\n",
       "<p>60471 rows × 11 columns</p>\n",
       "</div>"
      ],
      "text/plain": [
       "        movieId                      title                          genres  \\\n",
       "2235         24              Powder (1995)                    Drama|Sci-Fi   \n",
       "2236         24              Powder (1995)                    Drama|Sci-Fi   \n",
       "2237         24              Powder (1995)                    Drama|Sci-Fi   \n",
       "2238         24              Powder (1995)                    Drama|Sci-Fi   \n",
       "2239         24              Powder (1995)                    Drama|Sci-Fi   \n",
       "...         ...                        ...                             ...   \n",
       "285748   191005             Gintama (2017)  Action|Adventure|Comedy|Sci-Fi   \n",
       "285749   193565  Gintama: The Movie (2010)  Action|Animation|Comedy|Sci-Fi   \n",
       "285750   193565  Gintama: The Movie (2010)  Action|Animation|Comedy|Sci-Fi   \n",
       "285751   193565  Gintama: The Movie (2010)  Action|Animation|Comedy|Sci-Fi   \n",
       "285752   193565  Gintama: The Movie (2010)  Action|Animation|Comedy|Sci-Fi   \n",
       "\n",
       "        userId_x  rating  timestamp_x  userId_y       tag   timestamp_y  \\\n",
       "2235           6     4.0    845554397       NaN       NaN           NaN   \n",
       "2236          32     3.0    856737205       NaN       NaN           NaN   \n",
       "2237          71     2.0    864740028       NaN       NaN           NaN   \n",
       "2238         111     2.5   1518640854       NaN       NaN           NaN   \n",
       "2239         181     3.0    845470571       NaN       NaN           NaN   \n",
       "...          ...     ...          ...       ...       ...           ...   \n",
       "285748       184     4.5   1537109489       NaN       NaN           NaN   \n",
       "285749       184     3.5   1537098554     184.0     anime  1.537099e+09   \n",
       "285750       184     3.5   1537098554     184.0    comedy  1.537099e+09   \n",
       "285751       184     3.5   1537098554     184.0   gintama  1.537099e+09   \n",
       "285752       184     3.5   1537098554     184.0  remaster  1.537099e+09   \n",
       "\n",
       "         imdbId    tmdbId  \n",
       "2235     114168   12665.0  \n",
       "2236     114168   12665.0  \n",
       "2237     114168   12665.0  \n",
       "2238     114168   12665.0  \n",
       "2239     114168   12665.0  \n",
       "...         ...       ...  \n",
       "285748  5805470  432985.0  \n",
       "285749  1636780   71172.0  \n",
       "285750  1636780   71172.0  \n",
       "285751  1636780   71172.0  \n",
       "285752  1636780   71172.0  \n",
       "\n",
       "[60471 rows x 11 columns]"
      ]
     },
     "execution_count": 64,
     "metadata": {},
     "output_type": "execute_result"
    }
   ],
   "source": [
    "df"
   ]
  },
  {
   "cell_type": "code",
   "execution_count": 69,
   "id": "d132351a",
   "metadata": {},
   "outputs": [
    {
     "ename": "KeyError",
     "evalue": "'imdbId'",
     "output_type": "error",
     "traceback": [
      "\u001b[1;31m---------------------------------------------------------------------------\u001b[0m",
      "\u001b[1;31mKeyError\u001b[0m                                  Traceback (most recent call last)",
      "\u001b[1;32m~\\AppData\\Local\\Temp\\ipykernel_2924\\2639583962.py\u001b[0m in \u001b[0;36m?\u001b[1;34m()\u001b[0m\n\u001b[1;32m----> 1\u001b[1;33m \u001b[0msci_fi_with_ratings\u001b[0m \u001b[1;33m=\u001b[0m \u001b[0mpd\u001b[0m\u001b[1;33m.\u001b[0m\u001b[0mmerge\u001b[0m\u001b[1;33m(\u001b[0m\u001b[0mdf\u001b[0m\u001b[1;33m,\u001b[0m \u001b[0mratings\u001b[0m\u001b[1;33m,\u001b[0m \u001b[0mon\u001b[0m\u001b[1;33m=\u001b[0m\u001b[1;34m'imdbId'\u001b[0m\u001b[1;33m)\u001b[0m\u001b[1;33m\u001b[0m\u001b[1;33m\u001b[0m\u001b[0m\n\u001b[0m",
      "\u001b[1;32mC:\\ProgramData\\anaconda3\\Lib\\site-packages\\pandas\\core\\reshape\\merge.py\u001b[0m in \u001b[0;36m?\u001b[1;34m(left, right, how, on, left_on, right_on, left_index, right_index, sort, suffixes, copy, indicator, validate)\u001b[0m\n\u001b[0;32m    144\u001b[0m     \u001b[0mcopy\u001b[0m\u001b[1;33m:\u001b[0m \u001b[0mbool\u001b[0m \u001b[1;33m|\u001b[0m \u001b[1;32mNone\u001b[0m \u001b[1;33m=\u001b[0m \u001b[1;32mNone\u001b[0m\u001b[1;33m,\u001b[0m\u001b[1;33m\u001b[0m\u001b[1;33m\u001b[0m\u001b[0m\n\u001b[0;32m    145\u001b[0m     \u001b[0mindicator\u001b[0m\u001b[1;33m:\u001b[0m \u001b[0mstr\u001b[0m \u001b[1;33m|\u001b[0m \u001b[0mbool\u001b[0m \u001b[1;33m=\u001b[0m \u001b[1;32mFalse\u001b[0m\u001b[1;33m,\u001b[0m\u001b[1;33m\u001b[0m\u001b[1;33m\u001b[0m\u001b[0m\n\u001b[0;32m    146\u001b[0m     \u001b[0mvalidate\u001b[0m\u001b[1;33m:\u001b[0m \u001b[0mstr\u001b[0m \u001b[1;33m|\u001b[0m \u001b[1;32mNone\u001b[0m \u001b[1;33m=\u001b[0m \u001b[1;32mNone\u001b[0m\u001b[1;33m,\u001b[0m\u001b[1;33m\u001b[0m\u001b[1;33m\u001b[0m\u001b[0m\n\u001b[0;32m    147\u001b[0m ) -> DataFrame:\n\u001b[1;32m--> 148\u001b[1;33m     op = _MergeOperation(\n\u001b[0m\u001b[0;32m    149\u001b[0m         \u001b[0mleft\u001b[0m\u001b[1;33m,\u001b[0m\u001b[1;33m\u001b[0m\u001b[1;33m\u001b[0m\u001b[0m\n\u001b[0;32m    150\u001b[0m         \u001b[0mright\u001b[0m\u001b[1;33m,\u001b[0m\u001b[1;33m\u001b[0m\u001b[1;33m\u001b[0m\u001b[0m\n\u001b[0;32m    151\u001b[0m         \u001b[0mhow\u001b[0m\u001b[1;33m=\u001b[0m\u001b[0mhow\u001b[0m\u001b[1;33m,\u001b[0m\u001b[1;33m\u001b[0m\u001b[1;33m\u001b[0m\u001b[0m\n",
      "\u001b[1;32mC:\\ProgramData\\anaconda3\\Lib\\site-packages\\pandas\\core\\reshape\\merge.py\u001b[0m in \u001b[0;36m?\u001b[1;34m(self, left, right, how, on, left_on, right_on, axis, left_index, right_index, sort, suffixes, indicator, validate)\u001b[0m\n\u001b[0;32m    733\u001b[0m         (\n\u001b[0;32m    734\u001b[0m             \u001b[0mself\u001b[0m\u001b[1;33m.\u001b[0m\u001b[0mleft_join_keys\u001b[0m\u001b[1;33m,\u001b[0m\u001b[1;33m\u001b[0m\u001b[1;33m\u001b[0m\u001b[0m\n\u001b[0;32m    735\u001b[0m             \u001b[0mself\u001b[0m\u001b[1;33m.\u001b[0m\u001b[0mright_join_keys\u001b[0m\u001b[1;33m,\u001b[0m\u001b[1;33m\u001b[0m\u001b[1;33m\u001b[0m\u001b[0m\n\u001b[0;32m    736\u001b[0m             \u001b[0mself\u001b[0m\u001b[1;33m.\u001b[0m\u001b[0mjoin_names\u001b[0m\u001b[1;33m,\u001b[0m\u001b[1;33m\u001b[0m\u001b[1;33m\u001b[0m\u001b[0m\n\u001b[1;32m--> 737\u001b[1;33m         ) = self._get_merge_keys()\n\u001b[0m\u001b[0;32m    738\u001b[0m \u001b[1;33m\u001b[0m\u001b[0m\n\u001b[0;32m    739\u001b[0m         \u001b[1;31m# validate the merge keys dtypes. We may need to coerce\u001b[0m\u001b[1;33m\u001b[0m\u001b[1;33m\u001b[0m\u001b[0m\n\u001b[0;32m    740\u001b[0m         \u001b[1;31m# to avoid incompatible dtypes\u001b[0m\u001b[1;33m\u001b[0m\u001b[1;33m\u001b[0m\u001b[0m\n",
      "\u001b[1;32mC:\\ProgramData\\anaconda3\\Lib\\site-packages\\pandas\\core\\reshape\\merge.py\u001b[0m in \u001b[0;36m?\u001b[1;34m(self)\u001b[0m\n\u001b[0;32m   1199\u001b[0m                         \u001b[1;31m# Then we're either Hashable or a wrong-length arraylike,\u001b[0m\u001b[1;33m\u001b[0m\u001b[1;33m\u001b[0m\u001b[0m\n\u001b[0;32m   1200\u001b[0m                         \u001b[1;31m#  the latter of which will raise\u001b[0m\u001b[1;33m\u001b[0m\u001b[1;33m\u001b[0m\u001b[0m\n\u001b[0;32m   1201\u001b[0m                         \u001b[0mrk\u001b[0m \u001b[1;33m=\u001b[0m \u001b[0mcast\u001b[0m\u001b[1;33m(\u001b[0m\u001b[0mHashable\u001b[0m\u001b[1;33m,\u001b[0m \u001b[0mrk\u001b[0m\u001b[1;33m)\u001b[0m\u001b[1;33m\u001b[0m\u001b[1;33m\u001b[0m\u001b[0m\n\u001b[0;32m   1202\u001b[0m                         \u001b[1;32mif\u001b[0m \u001b[0mrk\u001b[0m \u001b[1;32mis\u001b[0m \u001b[1;32mnot\u001b[0m \u001b[1;32mNone\u001b[0m\u001b[1;33m:\u001b[0m\u001b[1;33m\u001b[0m\u001b[1;33m\u001b[0m\u001b[0m\n\u001b[1;32m-> 1203\u001b[1;33m                             \u001b[0mright_keys\u001b[0m\u001b[1;33m.\u001b[0m\u001b[0mappend\u001b[0m\u001b[1;33m(\u001b[0m\u001b[0mright\u001b[0m\u001b[1;33m.\u001b[0m\u001b[0m_get_label_or_level_values\u001b[0m\u001b[1;33m(\u001b[0m\u001b[0mrk\u001b[0m\u001b[1;33m)\u001b[0m\u001b[1;33m)\u001b[0m\u001b[1;33m\u001b[0m\u001b[1;33m\u001b[0m\u001b[0m\n\u001b[0m\u001b[0;32m   1204\u001b[0m                         \u001b[1;32melse\u001b[0m\u001b[1;33m:\u001b[0m\u001b[1;33m\u001b[0m\u001b[1;33m\u001b[0m\u001b[0m\n\u001b[0;32m   1205\u001b[0m                             \u001b[1;31m# work-around for merge_asof(right_index=True)\u001b[0m\u001b[1;33m\u001b[0m\u001b[1;33m\u001b[0m\u001b[0m\n\u001b[0;32m   1206\u001b[0m                             \u001b[0mright_keys\u001b[0m\u001b[1;33m.\u001b[0m\u001b[0mappend\u001b[0m\u001b[1;33m(\u001b[0m\u001b[0mright\u001b[0m\u001b[1;33m.\u001b[0m\u001b[0mindex\u001b[0m\u001b[1;33m)\u001b[0m\u001b[1;33m\u001b[0m\u001b[1;33m\u001b[0m\u001b[0m\n",
      "\u001b[1;32mC:\\ProgramData\\anaconda3\\Lib\\site-packages\\pandas\\core\\generic.py\u001b[0m in \u001b[0;36m?\u001b[1;34m(self, key, axis)\u001b[0m\n\u001b[0;32m   1774\u001b[0m             \u001b[0mvalues\u001b[0m \u001b[1;33m=\u001b[0m \u001b[0mself\u001b[0m\u001b[1;33m.\u001b[0m\u001b[0mxs\u001b[0m\u001b[1;33m(\u001b[0m\u001b[0mkey\u001b[0m\u001b[1;33m,\u001b[0m \u001b[0maxis\u001b[0m\u001b[1;33m=\u001b[0m\u001b[0mother_axes\u001b[0m\u001b[1;33m[\u001b[0m\u001b[1;36m0\u001b[0m\u001b[1;33m]\u001b[0m\u001b[1;33m)\u001b[0m\u001b[1;33m.\u001b[0m\u001b[0m_values\u001b[0m\u001b[1;33m\u001b[0m\u001b[1;33m\u001b[0m\u001b[0m\n\u001b[0;32m   1775\u001b[0m         \u001b[1;32melif\u001b[0m \u001b[0mself\u001b[0m\u001b[1;33m.\u001b[0m\u001b[0m_is_level_reference\u001b[0m\u001b[1;33m(\u001b[0m\u001b[0mkey\u001b[0m\u001b[1;33m,\u001b[0m \u001b[0maxis\u001b[0m\u001b[1;33m=\u001b[0m\u001b[0maxis\u001b[0m\u001b[1;33m)\u001b[0m\u001b[1;33m:\u001b[0m\u001b[1;33m\u001b[0m\u001b[1;33m\u001b[0m\u001b[0m\n\u001b[0;32m   1776\u001b[0m             \u001b[0mvalues\u001b[0m \u001b[1;33m=\u001b[0m \u001b[0mself\u001b[0m\u001b[1;33m.\u001b[0m\u001b[0maxes\u001b[0m\u001b[1;33m[\u001b[0m\u001b[0maxis\u001b[0m\u001b[1;33m]\u001b[0m\u001b[1;33m.\u001b[0m\u001b[0mget_level_values\u001b[0m\u001b[1;33m(\u001b[0m\u001b[0mkey\u001b[0m\u001b[1;33m)\u001b[0m\u001b[1;33m.\u001b[0m\u001b[0m_values\u001b[0m\u001b[1;33m\u001b[0m\u001b[1;33m\u001b[0m\u001b[0m\n\u001b[0;32m   1777\u001b[0m         \u001b[1;32melse\u001b[0m\u001b[1;33m:\u001b[0m\u001b[1;33m\u001b[0m\u001b[1;33m\u001b[0m\u001b[0m\n\u001b[1;32m-> 1778\u001b[1;33m             \u001b[1;32mraise\u001b[0m \u001b[0mKeyError\u001b[0m\u001b[1;33m(\u001b[0m\u001b[0mkey\u001b[0m\u001b[1;33m)\u001b[0m\u001b[1;33m\u001b[0m\u001b[1;33m\u001b[0m\u001b[0m\n\u001b[0m\u001b[0;32m   1779\u001b[0m \u001b[1;33m\u001b[0m\u001b[0m\n\u001b[0;32m   1780\u001b[0m         \u001b[1;31m# Check for duplicates\u001b[0m\u001b[1;33m\u001b[0m\u001b[1;33m\u001b[0m\u001b[0m\n\u001b[0;32m   1781\u001b[0m         \u001b[1;32mif\u001b[0m \u001b[0mvalues\u001b[0m\u001b[1;33m.\u001b[0m\u001b[0mndim\u001b[0m \u001b[1;33m>\u001b[0m \u001b[1;36m1\u001b[0m\u001b[1;33m:\u001b[0m\u001b[1;33m\u001b[0m\u001b[1;33m\u001b[0m\u001b[0m\n",
      "\u001b[1;31mKeyError\u001b[0m: 'imdbId'"
     ]
    }
   ],
   "source": [
    "sci_fi_with_ratings = pd.merge(df, ratings, on='imdbId')"
   ]
  },
  {
   "cell_type": "code",
   "execution_count": 72,
   "id": "8f29ac93",
   "metadata": {},
   "outputs": [],
   "source": [
    "df1=df[df['rating']==5]"
   ]
  },
  {
   "cell_type": "code",
   "execution_count": 68,
   "id": "7b92ce8c",
   "metadata": {},
   "outputs": [
    {
     "data": {
      "text/plain": [
       "movieId                                                  1\n",
       "title                                     Toy Story (1995)\n",
       "genres         Adventure|Animation|Children|Comedy|Fantasy\n",
       "userId_x                                                31\n",
       "rating                                                 5.0\n",
       "timestamp_x                                      850466616\n",
       "userId_y                                             336.0\n",
       "tag                                                  pixar\n",
       "timestamp_y                                   1139045764.0\n",
       "imdbId                                              114709\n",
       "tmdbId                                               862.0\n",
       "Name: 27, dtype: object"
      ]
     },
     "execution_count": 68,
     "metadata": {},
     "output_type": "execute_result"
    }
   ],
   "source": [
    "full_df.loc[full_df['rating'].idxmax()]"
   ]
  },
  {
   "cell_type": "code",
   "execution_count": 73,
   "id": "44087015",
   "metadata": {},
   "outputs": [
    {
     "data": {
      "text/plain": [
       "genres\n",
       "Action|Adventure|Sci-Fi                            4059\n",
       "Action|Sci-Fi|Thriller                             1471\n",
       "Adventure|Drama|Sci-Fi                             1438\n",
       "Drama|Romance|Sci-Fi                               1131\n",
       "Action|Crime|Drama|Mystery|Sci-Fi|Thriller|IMAX    1066\n",
       "                                                   ... \n",
       "Action|Adventure|Animation|Children|Sci-Fi            1\n",
       "Action|Crime|Sci-Fi|Thriller                          1\n",
       "Adventure|Fantasy|Romance|Sci-Fi|Thriller             1\n",
       "Action|Drama|Horror|Sci-Fi|Thriller                   1\n",
       "Drama|Romance|Sci-Fi|Thriller                         1\n",
       "Name: count, Length: 125, dtype: int64"
      ]
     },
     "execution_count": 73,
     "metadata": {},
     "output_type": "execute_result"
    }
   ],
   "source": [
    "df1['genres'].value_counts()"
   ]
  },
  {
   "cell_type": "code",
   "execution_count": 2,
   "id": "df8750bf",
   "metadata": {},
   "outputs": [
    {
     "data": {
      "text/plain": [
       "'C:\\\\Users\\\\Admin'"
      ]
     },
     "execution_count": 2,
     "metadata": {},
     "output_type": "execute_result"
    }
   ],
   "source": [
    "import os\n",
    "os.getcwd()"
   ]
  }
 ],
 "metadata": {
  "kernelspec": {
   "display_name": "Python 3 (ipykernel)",
   "language": "python",
   "name": "python3"
  },
  "language_info": {
   "codemirror_mode": {
    "name": "ipython",
    "version": 3
   },
   "file_extension": ".py",
   "mimetype": "text/x-python",
   "name": "python",
   "nbconvert_exporter": "python",
   "pygments_lexer": "ipython3",
   "version": "3.11.5"
  }
 },
 "nbformat": 4,
 "nbformat_minor": 5
}
